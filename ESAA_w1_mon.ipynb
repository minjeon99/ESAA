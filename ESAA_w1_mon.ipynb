{
  "nbformat": 4,
  "nbformat_minor": 0,
  "metadata": {
    "colab": {
      "provenance": []
    },
    "kernelspec": {
      "name": "python3",
      "display_name": "Python 3"
    },
    "language_info": {
      "name": "python"
    }
  },
  "cells": [
    {
      "cell_type": "markdown",
      "source": [
        "#**01. 파이썬 기반의 머신러닝과 생태계 이해**"
      ],
      "metadata": {
        "id": "HoR__xPDxTqU"
      }
    },
    {
      "cell_type": "markdown",
      "source": [
        "##**03. 넘파이**"
      ],
      "metadata": {
        "id": "_eT0LlpSxYiJ"
      }
    },
    {
      "cell_type": "markdown",
      "source": [
        "**넘파이(Numpy)**: Numerical Python\n",
        "- 머신러닝의 주요 알고리즘은 선형대수, 통계 등에 기반\n",
        "- 파이썬에서 선형대수 기반의 프로그램을 쉽게 만들 수 있도록 지원하는 대표적인 패키지\n",
        "\n",
        "**특징**\n",
        "- 루프 사용 없이 대량 데이터의 배열 연산을 가능하게 함 → 빠른 배열 연산 속도 보장\n",
        "    \n",
        "    대량 데이터 기반 과학/공학 프로그램은 빠른 계산 능력 중요 ⇒ 넘파이에 의존\n",
        "    \n",
        "- C/C++과 같은 저수준 언어 기반의 호환 API 제공\n",
        "    \n",
        "    기존 C/C++ 기반 타 프로그램과 데이터 주고받거나 API 호출해 쉽게 통합할 수 있는 기능 제공\n",
        "    \n",
        "    넘파이는 빠른 배열 연산 보장하나, 파이썬 언어 자체가 가지는 수행 성능의 제약 존재\n",
        "    \n",
        "    ⇒ 수행 성능이 매우 중요한 부분은 C/C++, 이를 넘파이에서 호출하는 방식으로 통합\n",
        "    \n",
        "    e.g. 구글의 딥러닝 프레임워크, 텐서플로\n",
        "    \n",
        "- 다양한 데이터 핸들링 기능 제공\n",
        "    \n",
        "    편의성, 다양한 API 지원 측면에서 판다스에는 미치지 못함 → 주로 판다스의 데이터프레임 이용\n",
        "    \n",
        "- 넘파이를 이해하는 것은 파이썬 기반의 머신러닝에서 매우 중요\n",
        "    \n",
        "    많은 머신러닝 알고리즘이 넘파이 기반 작성, 입출력 데이터를 넘파이 배열 타입으로 사용\n",
        "    \n",
        "    넘파이가 배열 다루는 기본 방식을 이해하는 것은 다른 데이터 핸들링 패키지 이해에도 도움됨"
      ],
      "metadata": {
        "id": "cxWeuCegyHWV"
      }
    },
    {
      "cell_type": "markdown",
      "source": [
        "### **넘파이 ndarray 개요**"
      ],
      "metadata": {
        "id": "TjmdcYh6fGdt"
      }
    },
    {
      "cell_type": "code",
      "execution_count": null,
      "metadata": {
        "id": "599E5kgQw1EI"
      },
      "outputs": [],
      "source": [
        "import numpy as np"
      ]
    },
    {
      "cell_type": "markdown",
      "source": [
        "- **ndarray**: 넘파이의 기반 데이터 타입\n",
        "\n",
        "  다차원 배열 쉽게 생성하고 다양한 연산 수행 가능\n",
        "  "
      ],
      "metadata": {
        "id": "E7jfTXbh70X5"
      }
    },
    {
      "cell_type": "markdown",
      "source": [
        "- **array()**: 입력받은 인자를 ndarray로 변환하는 기능"
      ],
      "metadata": {
        "id": "iiksuRDedNBk"
      }
    },
    {
      "cell_type": "code",
      "source": [
        "array1 = np.array([1,2,3])\n",
        "print('array1 type:', type(array1))\n",
        "print('array1 array 형태:', array1.shape)\n",
        "# 1차원, 3개의 데이터\n",
        "\n",
        "array2 = np.array([[1,2,3],\n",
        "                   [2,3,4]])\n",
        "print('array2 type:', type(array2))\n",
        "print('array2 array 형태:', array2.shape)\n",
        "# 2차원, 2행 3열, 데이터 6개\n",
        "\n",
        "array3 = np.array([[1,2,3]])\n",
        "print('array3 type:', type(array3))\n",
        "print('array3 array 형태:', array3.shape)\n",
        "# 2차원, 1행 3열, 데이터 3개"
      ],
      "metadata": {
        "id": "zTXJY2lB7aaD",
        "colab": {
          "base_uri": "https://localhost:8080/"
        },
        "outputId": "13018bc5-2bb9-4cda-fd43-36f86518e416"
      },
      "execution_count": null,
      "outputs": [
        {
          "output_type": "stream",
          "name": "stdout",
          "text": [
            "array1 type: <class 'numpy.ndarray'>\n",
            "array1 array 형태: (3,)\n",
            "array2 type: <class 'numpy.ndarray'>\n",
            "array2 array 형태: (2, 3)\n",
            "array3 type: <class 'numpy.ndarray'>\n",
            "array3 array 형태: (1, 3)\n"
          ]
        }
      ]
    },
    {
      "cell_type": "markdown",
      "source": [
        "- **np.array()**: 변환을 원하는 객체를 인자로 입력하면 ndarray를 반환\n",
        "- **ndarray.shape**: ndarray의 차원과 크기 -> 튜플 형태"
      ],
      "metadata": {
        "id": "F-awSTDXeNqN"
      }
    },
    {
      "cell_type": "code",
      "source": [
        "# 차원 확인\n",
        "print('array1: {:0}차원, array2: {:1}차원, array3: {:2}차원'.format(array1.ndim, array2.ndim, array3.ndim))"
      ],
      "metadata": {
        "colab": {
          "base_uri": "https://localhost:8080/"
        },
        "id": "kYMWdwIAeLGc",
        "outputId": "d5cf0a0c-0b85-4642-d42d-b71541d965e1"
      },
      "execution_count": null,
      "outputs": [
        {
          "output_type": "stream",
          "name": "stdout",
          "text": [
            "array1: 1차원, array2: 2차원, array3:  2차원\n"
          ]
        }
      ]
    },
    {
      "cell_type": "markdown",
      "source": [
        "### **ndarray의 데이터 타입**\n",
        "- 숫자 값, 문자열 값, 불 값\n",
        "- 숫자형: int, unsigned int, float, complex"
      ],
      "metadata": {
        "id": "B-KtzlJHfFAc"
      }
    },
    {
      "cell_type": "markdown",
      "source": [
        "- ndarray내의 데이터 타입은 같은 데이터 타입만 가능\n",
        "- dtype 속성: ndarray내의 데이터 타입 확인"
      ],
      "metadata": {
        "id": "S0NVNFnafiQD"
      }
    },
    {
      "cell_type": "code",
      "source": [
        "list1 = [1,2,3]\n",
        "print(type(list1))\n",
        "array1 = np.array(list1)\n",
        "print(type(array1))\n",
        "print(array1, array1.dtype)"
      ],
      "metadata": {
        "colab": {
          "base_uri": "https://localhost:8080/"
        },
        "id": "W4Y8mDSme_tE",
        "outputId": "ef408af7-389f-4e6b-e639-5a961f639ef4"
      },
      "execution_count": null,
      "outputs": [
        {
          "output_type": "stream",
          "name": "stdout",
          "text": [
            "<class 'list'>\n",
            "<class 'numpy.ndarray'>\n",
            "[1 2 3] int64\n"
          ]
        }
      ]
    },
    {
      "cell_type": "code",
      "source": [
        "# 데이터 타입 섞여 있는 리스트인 경우\n",
        "list2 = [1,2,'test']\n",
        "array2 = np.array(list2)\n",
        "print(array2, array2.dtype)\n",
        "\n",
        "list3 = [1,2,3.0]\n",
        "array3 = np.array(list3)\n",
        "print(array3, array3.dtype)"
      ],
      "metadata": {
        "colab": {
          "base_uri": "https://localhost:8080/"
        },
        "id": "2rdR39qjfWY4",
        "outputId": "3085534b-7cf8-44d9-bb51-e0ac6b79790b"
      },
      "execution_count": null,
      "outputs": [
        {
          "output_type": "stream",
          "name": "stdout",
          "text": [
            "['1' '2' 'test'] <U21\n",
            "[1. 2. 3.] float64\n"
          ]
        }
      ]
    },
    {
      "cell_type": "markdown",
      "source": [
        "- array2: int형과 문자열 섞임 -> 숫자형 1,2가 모두 문자열 값으로 변환\n",
        "- array3: int형과 float형 섞임 -> int 1,2가 모두 float64형으로 변환"
      ],
      "metadata": {
        "id": "IMr4kcDKgB6w"
      }
    },
    {
      "cell_type": "markdown",
      "source": [
        "- astype(): ndarray 내 데이터값의 타입 변경 메소드\n",
        "- 주로 메모리 절약에 이용(float->int)"
      ],
      "metadata": {
        "id": "jkH_CiEQgUTJ"
      }
    },
    {
      "cell_type": "code",
      "source": [
        "# int32형 데이터 -> float64 -> int32로 변경\n",
        "array_int = np.array([1,2,3])\n",
        "array_float = array_int.astype('float64')\n",
        "print(array_float, array_float.dtype)\n",
        "\n",
        "array_int1 = array_float.astype('int32')\n",
        "print(array_int1, array_int1.dtype)\n",
        "\n",
        "array_float1 = np.array([1.1,2.1,3.1])\n",
        "array_int2 = array_float1.astype('int32')\n",
        "print(array_int2, array_int2.dtype)"
      ],
      "metadata": {
        "colab": {
          "base_uri": "https://localhost:8080/"
        },
        "id": "uvUAepWyf_p9",
        "outputId": "89a7838e-b03f-46f6-8f83-09a1e51a3155"
      },
      "execution_count": null,
      "outputs": [
        {
          "output_type": "stream",
          "name": "stdout",
          "text": [
            "[1. 2. 3.] float64\n",
            "[1 2 3] int32\n",
            "[1 2 3] int32\n"
          ]
        }
      ]
    },
    {
      "cell_type": "markdown",
      "source": [
        "### **ndarray 편리하게 생성 - arange, zeros, ones**\n",
        "- 특정 크기와 차원을 가진 ndarray를 연속값, 0, 1로 초기화해 쉽게 생성"
      ],
      "metadata": {
        "id": "0qe1NBQBUoVz"
      }
    },
    {
      "cell_type": "markdown",
      "source": [
        "- arange(): range()와 유사  \n",
        "  - array를 range()로 표현\n",
        "  - 0부터 (인자 - 1)까지 순차적으로 ndarray 데이터값으로 변환"
      ],
      "metadata": {
        "id": "yuBqNRCWV9ek"
      }
    },
    {
      "cell_type": "code",
      "source": [
        "sequence_array = np.arange(10)\n",
        "print(sequence_array)\n",
        "print(sequence_array.dtype, sequence_array.shape)"
      ],
      "metadata": {
        "id": "hAlMFD4kg4Je",
        "colab": {
          "base_uri": "https://localhost:8080/"
        },
        "outputId": "f65e0125-93bd-4ee9-931f-2edfebc4834a"
      },
      "execution_count": null,
      "outputs": [
        {
          "output_type": "stream",
          "name": "stdout",
          "text": [
            "[0 1 2 3 4 5 6 7 8 9]\n",
            "int64 (10,)\n"
          ]
        }
      ]
    },
    {
      "cell_type": "markdown",
      "source": [
        "- default 함수 인자: stop 값\n",
        "- 1차원 ndarray 생성\n",
        "- start 값도 부여 가능\n",
        "\n",
        "  ---\n",
        "- zeros()\n",
        "  - 인자: 튜플 형태의 shape 값\n",
        "  - 모든 값을 0으로 채운 해당 shape의 ndarray 반환\n",
        "  ---\n",
        "- ones()\n",
        "  - 인자: 튜플 형태의 shape 값\n",
        "  - 모든 값을 1로 채운 해당 shape의 ndarray 반환\n",
        "\n",
        "dtype 정해주지 않은 경우: default = float64"
      ],
      "metadata": {
        "id": "lZENW30gWq5x"
      }
    },
    {
      "cell_type": "code",
      "source": [
        "zero_array = np.zeros((3,2), dtype='int32')\n",
        "print(zero_array)\n",
        "print(zero_array.dtype, zero_array.shape)\n",
        "\n",
        "one_array = np.ones((3,2))\n",
        "print(one_array)\n",
        "print(one_array.dtype, one_array.shape)"
      ],
      "metadata": {
        "colab": {
          "base_uri": "https://localhost:8080/"
        },
        "id": "7I0a1KyMWzz9",
        "outputId": "29ebf8f9-ad93-4beb-90ab-990b989ea64d"
      },
      "execution_count": null,
      "outputs": [
        {
          "output_type": "stream",
          "name": "stdout",
          "text": [
            "[[0 0]\n",
            " [0 0]\n",
            " [0 0]]\n",
            "int32 (3, 2)\n",
            "[[1. 1.]\n",
            " [1. 1.]\n",
            " [1. 1.]]\n",
            "float64 (3, 2)\n"
          ]
        }
      ]
    },
    {
      "cell_type": "markdown",
      "source": [
        "### **ndarray의 차원, 크기 변경 - reshape()**\n",
        "- reshape(): ndarray를 특정 차원, 크기(인자로 입력)로 변환"
      ],
      "metadata": {
        "id": "Kzsd0bybYCkK"
      }
    },
    {
      "cell_type": "code",
      "source": [
        "array1 = np.arange(10)\n",
        "print('array1:\\n', array1)\n",
        "\n",
        "array2 = array1.reshape(2,5)\n",
        "print('array2:\\n', array2)\n",
        "\n",
        "array3 = array1.reshape(5,2)\n",
        "print('array3:\\n', array3)"
      ],
      "metadata": {
        "colab": {
          "base_uri": "https://localhost:8080/"
        },
        "id": "wVh2gURvZs05",
        "outputId": "0cbc6cd9-db1f-4af0-f03d-e5740f504557"
      },
      "execution_count": null,
      "outputs": [
        {
          "output_type": "stream",
          "name": "stdout",
          "text": [
            "array1:\n",
            " [0 1 2 3 4 5 6 7 8 9]\n",
            "array2:\n",
            " [[0 1 2 3 4]\n",
            " [5 6 7 8 9]]\n",
            "array3:\n",
            " [[0 1]\n",
            " [2 3]\n",
            " [4 5]\n",
            " [6 7]\n",
            " [8 9]]\n"
          ]
        }
      ]
    },
    {
      "cell_type": "markdown",
      "source": [
        "- 지정된 사이즈로 변경 불가능하면 오류 발생\n",
        "\n",
        "  e.g. (10,) -> (4,3) 변경 불가"
      ],
      "metadata": {
        "id": "innlDMQFaBOp"
      }
    },
    {
      "cell_type": "code",
      "source": [
        "array1.reshape(4,3)"
      ],
      "metadata": {
        "colab": {
          "base_uri": "https://localhost:8080/",
          "height": 146
        },
        "id": "jIDHK63GZ_4i",
        "outputId": "4ab581e0-b77b-472c-c474-75698392f3eb"
      },
      "execution_count": null,
      "outputs": [
        {
          "output_type": "error",
          "ename": "ValueError",
          "evalue": "cannot reshape array of size 10 into shape (4,3)",
          "traceback": [
            "\u001b[0;31m---------------------------------------------------------------------------\u001b[0m",
            "\u001b[0;31mValueError\u001b[0m                                Traceback (most recent call last)",
            "\u001b[0;32m<ipython-input-16-a40469ec5825>\u001b[0m in \u001b[0;36m<cell line: 1>\u001b[0;34m()\u001b[0m\n\u001b[0;32m----> 1\u001b[0;31m \u001b[0marray1\u001b[0m\u001b[0;34m.\u001b[0m\u001b[0mreshape\u001b[0m\u001b[0;34m(\u001b[0m\u001b[0;36m4\u001b[0m\u001b[0;34m,\u001b[0m\u001b[0;36m3\u001b[0m\u001b[0;34m)\u001b[0m\u001b[0;34m\u001b[0m\u001b[0;34m\u001b[0m\u001b[0m\n\u001b[0m",
            "\u001b[0;31mValueError\u001b[0m: cannot reshape array of size 10 into shape (4,3)"
          ]
        }
      ]
    },
    {
      "cell_type": "markdown",
      "source": [
        "- 인자로 -1 적용 -> 원래 ndarray와 호환되는 새로운 shape로 변환해줌"
      ],
      "metadata": {
        "id": "NTZ6ADC-aMBF"
      }
    },
    {
      "cell_type": "code",
      "source": [
        "array1 = np.arange(10)\n",
        "print(array1)\n",
        "array2 = array1.reshape(-1,5)\n",
        "print('array2 shape:', array2.shape)\n",
        "array3 = array1.reshape(5,-1)\n",
        "print('array3 shape:', array3.shape)"
      ],
      "metadata": {
        "colab": {
          "base_uri": "https://localhost:8080/"
        },
        "id": "w6NT62lMWnp8",
        "outputId": "af3dc1af-d108-42d7-ece6-2d193bd1871b"
      },
      "execution_count": null,
      "outputs": [
        {
          "output_type": "stream",
          "name": "stdout",
          "text": [
            "[0 1 2 3 4 5 6 7 8 9]\n",
            "array2 shape: (2, 5)\n",
            "array3 shape: (5, 2)\n"
          ]
        }
      ]
    },
    {
      "cell_type": "markdown",
      "source": [
        "- array1: 0~9까지의 1차원 ndarray\n",
        "- array2: array1을 2차원 ndadrray로 변환하되, 고정된 5개의 칼럼에 맞는 로우를 자동으로 생성\n",
        "  -> 2X5 변환"
      ],
      "metadata": {
        "id": "DQQjnyYnahRQ"
      }
    },
    {
      "cell_type": "code",
      "source": [
        "# -1을 사용해도 호환될 수 없는 형태는 변환 불가\n",
        "array1 = np.arange(10)\n",
        "array4 = array1.reshape(-1,4)"
      ],
      "metadata": {
        "colab": {
          "base_uri": "https://localhost:8080/",
          "height": 165
        },
        "id": "rueRIXy2agWT",
        "outputId": "13c0e4d7-4a04-451a-b77b-1807b96314b9"
      },
      "execution_count": null,
      "outputs": [
        {
          "output_type": "error",
          "ename": "ValueError",
          "evalue": "cannot reshape array of size 10 into shape (4)",
          "traceback": [
            "\u001b[0;31m---------------------------------------------------------------------------\u001b[0m",
            "\u001b[0;31mValueError\u001b[0m                                Traceback (most recent call last)",
            "\u001b[0;32m<ipython-input-18-07da9760475e>\u001b[0m in \u001b[0;36m<cell line: 2>\u001b[0;34m()\u001b[0m\n\u001b[1;32m      1\u001b[0m \u001b[0marray1\u001b[0m \u001b[0;34m=\u001b[0m \u001b[0mnp\u001b[0m\u001b[0;34m.\u001b[0m\u001b[0marange\u001b[0m\u001b[0;34m(\u001b[0m\u001b[0;36m10\u001b[0m\u001b[0;34m)\u001b[0m\u001b[0;34m\u001b[0m\u001b[0;34m\u001b[0m\u001b[0m\n\u001b[0;32m----> 2\u001b[0;31m \u001b[0marray4\u001b[0m \u001b[0;34m=\u001b[0m \u001b[0marray1\u001b[0m\u001b[0;34m.\u001b[0m\u001b[0mreshape\u001b[0m\u001b[0;34m(\u001b[0m\u001b[0;34m-\u001b[0m\u001b[0;36m1\u001b[0m\u001b[0;34m,\u001b[0m\u001b[0;36m4\u001b[0m\u001b[0;34m)\u001b[0m\u001b[0;34m\u001b[0m\u001b[0;34m\u001b[0m\u001b[0m\n\u001b[0m",
            "\u001b[0;31mValueError\u001b[0m: cannot reshape array of size 10 into shape (4)"
          ]
        }
      ]
    },
    {
      "cell_type": "markdown",
      "source": [
        "- reshape(-1,1): 원본 ndarray가 어떤 형태이든 2차원, 여러 개의 로우와 반드시 1개의 칼럼을 가진 ndarray로 변환됨을 보장\n",
        "  \n",
        "  => stack, concat으로 결합할 때 각각의 ndarray 형태 통일에 유용하게 사용"
      ],
      "metadata": {
        "id": "7LZp48GPbOpn"
      }
    },
    {
      "cell_type": "code",
      "source": [
        "# 3차원 -> 2차원, 1차원 -> 2차원 변경 예제\n",
        "\n",
        "array1 = np.arange(8)\n",
        "array3d = array1.reshape((2,2,2))\n",
        "print('array3d:\\n', array3d.tolist())\n",
        "\n",
        "# 3차원 ndarray를 2차원 ndarray로 변환\n",
        "array5 = array3d.reshape(-1,1)\n",
        "print('array5:\\n', array5.tolist())\n",
        "print('array5 shape:', array5.shape)\n",
        "\n",
        "# 1차원 ndarray를 2차원 ndarray로 변환\n",
        "array6 = array1.reshape(-1,1)\n",
        "print('array6:\\n', array6.tolist())\n",
        "print('array6 shape:', array6.shape)"
      ],
      "metadata": {
        "colab": {
          "base_uri": "https://localhost:8080/"
        },
        "id": "mbqy7SdibkW_",
        "outputId": "0b568984-c89a-4788-af84-c20cf72895d2"
      },
      "execution_count": null,
      "outputs": [
        {
          "output_type": "stream",
          "name": "stdout",
          "text": [
            "array3d:\n",
            " [[[0, 1], [2, 3]], [[4, 5], [6, 7]]]\n",
            "array5:\n",
            " [[0], [1], [2], [3], [4], [5], [6], [7]]\n",
            "array5 shape: (8, 1)\n",
            "array6:\n",
            " [[0], [1], [2], [3], [4], [5], [6], [7]]\n",
            "array6 shape: (8, 1)\n"
          ]
        }
      ]
    },
    {
      "cell_type": "markdown",
      "source": [
        "### **ndarray의 데이터 세트 선택 - 인덱싱(Indexing)**\n",
        "\n",
        "**1. 특정 데이터만 추출**: 원하는 위치의 인덱스 값을 지정하면 해당 위치의 데이터가 반환\n",
        "\n",
        "**2. 슬라이싱(Slicing)**: 연속된 인덱스상의 ndarray 추출\n",
        "- ':' 기호 사이에 시작, 종료 인덱스 표시\n",
        "- 시작 ~ (종료 - 1) 인덱스 위치에 있는 ndarray 반환\n",
        "\n",
        "**3. 팬시 인덱싱(Fancy Indexing)**: 일정한 인덱싱 집합을 리스트/ndarray로 지정해 해당 위치에 있는 데이터의 ndarray 반환\n",
        "\n",
        "**4. 불린 인덱싱(Boolean Indexing)**: 특정 조건 해당 여부 True/False 값 인덱싱 집합을 기반으로 True에 해당하는 인덱스 위치에 있는 데이터의 ndarray 반환"
      ],
      "metadata": {
        "id": "dv_ibSX_e0Sj"
      }
    },
    {
      "cell_type": "markdown",
      "source": [
        "#### **단일 값 추출**\n",
        "- 한 개의 데이터 추출\n",
        "- ndarray 객체에 해당하는 위치의 인덱스 값을 [ ]안에 입력"
      ],
      "metadata": {
        "id": "sZbo7ju9nqpa"
      }
    },
    {
      "cell_type": "code",
      "source": [
        "# 1부터 9까지의 1차원 ndarray 생성\n",
        "array1 = np.arange(start=1, stop=10)\n",
        "print('array1:', array1)\n",
        "# index는 0부터 시작하므로 array1[2]는 3번째 index 위치의 데이터값을 의미\n",
        "value = array1[2]\n",
        "print('value:', value)\n",
        "print(type(value))"
      ],
      "metadata": {
        "colab": {
          "base_uri": "https://localhost:8080/"
        },
        "id": "QSfdT3evnwBL",
        "outputId": "6a6ea8f2-f398-4396-bdc8-663272f3bf62"
      },
      "execution_count": null,
      "outputs": [
        {
          "output_type": "stream",
          "name": "stdout",
          "text": [
            "array1: [1 2 3 4 5 6 7 8 9]\n",
            "value: 3\n",
            "<class 'numpy.int64'>\n"
          ]
        }
      ]
    },
    {
      "cell_type": "markdown",
      "source": [
        "- 인덱스에 마이너스 기호 이용 -> 맨 뒤에서부터 데이터 추출\n",
        "- -1: 맨 뒤 데이터값\n",
        "- -2: 뒤에서 두 번째 데이터값"
      ],
      "metadata": {
        "id": "PhtrAONloErm"
      }
    },
    {
      "cell_type": "code",
      "source": [
        "print('맨 뒤의 값:', array1[-1], ', 맨 뒤에서 두 번째 값:', array1[-2])"
      ],
      "metadata": {
        "colab": {
          "base_uri": "https://localhost:8080/"
        },
        "id": "mqeHouLJozmi",
        "outputId": "7425c9f3-747c-4e0c-a3fc-0722b4471cd3"
      },
      "execution_count": null,
      "outputs": [
        {
          "output_type": "stream",
          "name": "stdout",
          "text": [
            "맨 뒤의 값: 9 , 맨 뒤에서 두 번째 값: 8\n"
          ]
        }
      ]
    },
    {
      "cell_type": "markdown",
      "source": [
        "- 단일 인덱스를 이용해 ndarray 내의 데이터값도 수정 가능"
      ],
      "metadata": {
        "id": "SUXt4e9UpFul"
      }
    },
    {
      "cell_type": "code",
      "source": [
        "array1[0] = 9\n",
        "array1[8] = 0\n",
        "print('array1:', array1)"
      ],
      "metadata": {
        "colab": {
          "base_uri": "https://localhost:8080/"
        },
        "id": "cButUJ0Qo5Hr",
        "outputId": "206941e9-ab66-4831-a721-2f21567ab9fc"
      },
      "execution_count": null,
      "outputs": [
        {
          "output_type": "stream",
          "name": "stdout",
          "text": [
            "array1: [9 2 3 4 5 6 7 8 0]\n"
          ]
        }
      ]
    },
    {
      "cell_type": "markdown",
      "source": [
        "**다차원 ndarray에서 단일 값 추출**\n",
        "- 2차원의 경우 콤마(,)로 분리된 로우와 칼럼 위치의 인덱스를 통해 접근"
      ],
      "metadata": {
        "id": "IGwm5CKFpLqE"
      }
    },
    {
      "cell_type": "code",
      "source": [
        "array1d = np.arange(start=1, stop=10)\n",
        "array2d = array1d.reshape(3,3)\n",
        "print(array2d)\n",
        "\n",
        "print('(row=0, col=0) index 가리키는 값:', array2d[0,0])\n",
        "print('(row=0, col=1) index 가리키는 값:', array2d[0,1])\n",
        "print('(row=1, col=0) index 가리키는 값:', array2d[1,0])\n",
        "print('(row=2, col=2) index 가리키는 값:', array2d[2,2])"
      ],
      "metadata": {
        "colab": {
          "base_uri": "https://localhost:8080/"
        },
        "id": "F4bnp7EppKM_",
        "outputId": "f471c7fb-87c9-44ed-f567-ffb6a15b89cc"
      },
      "execution_count": null,
      "outputs": [
        {
          "output_type": "stream",
          "name": "stdout",
          "text": [
            "[[1 2 3]\n",
            " [4 5 6]\n",
            " [7 8 9]]\n",
            "(row=0, col=0) index 가리키는 값: 1\n",
            "(row=0, col=1) index 가리키는 값: 2\n",
            "(row=1, col=0) index 가리키는 값: 4\n",
            "(row=2, col=2) index 가리키는 값: 9\n"
          ]
        }
      ]
    },
    {
      "cell_type": "markdown",
      "source": [
        "- axis 0: 로우 방향 축\n",
        "- axis 1: 칼럼 방향 축\n",
        "- 3차원 ndarray: (axis 0, axis 1, axis 2) 3개의 축을 가짐"
      ],
      "metadata": {
        "id": "ZHOxWIAFtOt7"
      }
    },
    {
      "cell_type": "markdown",
      "source": [
        "#### **슬라이싱**\n",
        "- 단일 데이터값 추출 제외 슬라이싱, 팬시, 불린 인덱싱으로 추출된 데이터 세트는 모두 ndarray 타입\n",
        "- ':' 사이에 시작, 종료 인덱스 표시\n",
        "- 시작 인덱스 ~ (종료 인덱스 - 1)의 위치에 있는 데이터의 ndarray 반환"
      ],
      "metadata": {
        "id": "wqDn_eWhthgX"
      }
    },
    {
      "cell_type": "code",
      "source": [
        "array1 = np.arange(start=1, stop=10)\n",
        "array3 = array1[0:3]\n",
        "print(array3)\n",
        "print(type(array3))"
      ],
      "metadata": {
        "colab": {
          "base_uri": "https://localhost:8080/"
        },
        "id": "4GtsLfwKpnij",
        "outputId": "72525eb3-c47e-493d-e5de-8fd0ce7e5f1a"
      },
      "execution_count": null,
      "outputs": [
        {
          "output_type": "stream",
          "name": "stdout",
          "text": [
            "[1 2 3]\n",
            "<class 'numpy.ndarray'>\n"
          ]
        }
      ]
    },
    {
      "cell_type": "markdown",
      "source": [
        "- ':' 사이의 시작, 종료 인덱스 생략 가능\n",
        "1. 시작 인덱스 생략 -> 맨 처음 인덱스(0)로 간주\n",
        "2. 종료 인덱스 생략 -> 맨 마지막 인덱스로 간주\n",
        "3. 시작/종료 인덱스 생략 -> 맨 처음/맨 마지막 인덱스로 간주"
      ],
      "metadata": {
        "id": "5k3KPFuut_WA"
      }
    },
    {
      "cell_type": "code",
      "source": [
        "array1 = np.arange(start=1, stop=10)\n",
        "array4 = array1[:3]\n",
        "print(array4)\n",
        "\n",
        "array5 = array1[3:]\n",
        "print(array5)\n",
        "\n",
        "array6 = array1[:]\n",
        "print(array6)"
      ],
      "metadata": {
        "colab": {
          "base_uri": "https://localhost:8080/"
        },
        "id": "JVyUeeo8t7E9",
        "outputId": "c6012869-08d5-43ea-fdc8-aed55c721c8d"
      },
      "execution_count": null,
      "outputs": [
        {
          "output_type": "stream",
          "name": "stdout",
          "text": [
            "[1 2 3]\n",
            "[4 5 6 7 8 9]\n",
            "[1 2 3 4 5 6 7 8 9]\n"
          ]
        }
      ]
    },
    {
      "cell_type": "markdown",
      "source": [
        "**2차원 ndarray 슬라이싱**\n",
        "- 1차원과 유사, 콤마(,)로 로우/칼럼 인덱스 지칭하는 부분만 다름"
      ],
      "metadata": {
        "id": "We5JXuxKuXRv"
      }
    },
    {
      "cell_type": "code",
      "source": [
        "array1d = np.arange(start=1, stop=10)\n",
        "array2d = array1d.reshape(3,3)\n",
        "print('array2d:\\n', array2d)\n",
        "\n",
        "print('array2d[0:2, 0:2] \\n', array2d[0:2, 0:2])\n",
        "print('array2d[1:3, 0:3] \\n', array2d[1:3, 0:3])\n",
        "print('array2d[1:3, :] \\n', array2d[1:3, :])\n",
        "print('array2d[:, :] \\n', array2d[:, :])\n",
        "print('array2d[:2, :] \\n', array2d[:2, :])\n",
        "print('array2d[:2, 0] \\n', array2d[:2, 0])"
      ],
      "metadata": {
        "colab": {
          "base_uri": "https://localhost:8080/"
        },
        "id": "x75d2LxJuV-f",
        "outputId": "82509b09-ac28-47c4-ab0d-3c20c78004f0"
      },
      "execution_count": null,
      "outputs": [
        {
          "output_type": "stream",
          "name": "stdout",
          "text": [
            "array2d:\n",
            " [[1 2 3]\n",
            " [4 5 6]\n",
            " [7 8 9]]\n",
            "array2d[0:2, 0:2] \n",
            " [[1 2]\n",
            " [4 5]]\n",
            "array2d[1:3, 0:3] \n",
            " [[4 5 6]\n",
            " [7 8 9]]\n",
            "array2d[1:3, :] \n",
            " [[4 5 6]\n",
            " [7 8 9]]\n",
            "array2d[:, :] \n",
            " [[1 2 3]\n",
            " [4 5 6]\n",
            " [7 8 9]]\n",
            "array2d[:2, :] \n",
            " [[1 2 3]\n",
            " [4 5 6]]\n",
            "array2d[:2, 0] \n",
            " [1 4]\n"
          ]
        }
      ]
    },
    {
      "cell_type": "markdown",
      "source": [
        "- 2차원 ndarray에서 뒤에 오는 인덱스 없애면 1차원 ndarray 반환\n",
        "- 3차원 ndarray에서 뒤에 오는 인덱스 없애면 2차원 ndarray 반환"
      ],
      "metadata": {
        "id": "Um_F6S_mvckz"
      }
    },
    {
      "cell_type": "code",
      "source": [
        "print(array2d[0])\n",
        "print(array2d[1])\n",
        "print('array2d[0] shape:', array2d[0].shape, 'array2d[1] shape:', array2d[1].shape)"
      ],
      "metadata": {
        "colab": {
          "base_uri": "https://localhost:8080/"
        },
        "id": "ma3VI52bvkru",
        "outputId": "7b3ac7e7-5695-4233-fc7d-4779c28f372b"
      },
      "execution_count": null,
      "outputs": [
        {
          "output_type": "stream",
          "name": "stdout",
          "text": [
            "[1 2 3]\n",
            "[4 5 6]\n",
            "array2d[0] shape: (3,) array2d[1] shape: (3,)\n"
          ]
        }
      ]
    },
    {
      "cell_type": "markdown",
      "source": [
        "#### **팬시 인덱싱**\n",
        "- 리스트나 ndarray로 인덱스 집합 지정 -> 해당 위치의 인덱스에 해당하는 ndarray 반환"
      ],
      "metadata": {
        "id": "2XbCLUDWAuOD"
      }
    },
    {
      "cell_type": "code",
      "source": [
        "# 2차원 ndarray 팬시 인덱싱\n",
        "array1d = np.arange(start=1, stop=10)\n",
        "array2d = array1d.reshape(3,3)\n",
        "\n",
        "array3 = array2d[[0,1],2]\n",
        "print('array2d[[0,1],2] =>', array3.tolist())\n",
        "\n",
        "array4 = array2d[[0,1],0:2]\n",
        "print('array2d[0,1],0:2 =>', array4.tolist())\n",
        "\n",
        "array5 = array2d[[0,1]]\n",
        "print('array2d[[0,1]] =>', array5.tolist())"
      ],
      "metadata": {
        "colab": {
          "base_uri": "https://localhost:8080/"
        },
        "id": "6dEFMKTIvvaI",
        "outputId": "4cc4d016-7804-445b-9c10-80901e7acc15"
      },
      "execution_count": null,
      "outputs": [
        {
          "output_type": "stream",
          "name": "stdout",
          "text": [
            "array2d[[0,1],2] => [3, 6]\n",
            "array2d[0,1],0:2 => [[1, 2], [4, 5]]\n",
            "array2d[[0,1]] => [[1, 2, 3], [4, 5, 6]]\n"
          ]
        }
      ]
    },
    {
      "cell_type": "markdown",
      "source": [
        "#### **불린 인덱싱**\n",
        "- 조건 필터링과 검색을 동시에 할 수 있어 자주 사용"
      ],
      "metadata": {
        "id": "IvNhAOHMBdnx"
      }
    },
    {
      "cell_type": "code",
      "source": [
        "array1d = np.arange(start=1, stop=10)\n",
        "# [ ] 안에 array1d > 5 Boolearn indexing 적용\n",
        "array3 = array1d[array1d > 5]\n",
        "print('array1d > 5 불린 인덱싱 결과 값:', array3)"
      ],
      "metadata": {
        "colab": {
          "base_uri": "https://localhost:8080/"
        },
        "id": "5iJJ-15RBbG3",
        "outputId": "db507dfd-beff-4069-e8e1-27dac797f5ab"
      },
      "execution_count": null,
      "outputs": [
        {
          "output_type": "stream",
          "name": "stdout",
          "text": [
            "array1d > 5 불린 인덱싱 결과 값: [6 7 8 9]\n"
          ]
        }
      ]
    },
    {
      "cell_type": "code",
      "source": [
        "# ndarray 객체에 조건식 할당\n",
        "array1d > 5"
      ],
      "metadata": {
        "colab": {
          "base_uri": "https://localhost:8080/"
        },
        "id": "zR_cOEUhByBj",
        "outputId": "53707b9f-f946-4b96-9b8a-d2adbe811a17"
      },
      "execution_count": null,
      "outputs": [
        {
          "output_type": "execute_result",
          "data": {
            "text/plain": [
              "array([False, False, False, False, False,  True,  True,  True,  True])"
            ]
          },
          "metadata": {},
          "execution_count": 5
        }
      ]
    },
    {
      "cell_type": "markdown",
      "source": [
        "- False, True로 이뤄진 ndarray 객체 반환\n",
        "- 이 객체를 [ ] 내에 입력하면 True 값이 있는 위치 인덱스 값으로 자동 변환 -> 해당 인덱스 위치의 데이터만 반환"
      ],
      "metadata": {
        "id": "s9ONaYINB7YW"
      }
    },
    {
      "cell_type": "code",
      "source": [
        "boolean_indexs = np.array([False, False, False, False, False,  True,  True,  True,  True])\n",
        "array3 = array1d[boolean_indexs]\n",
        "print('불린 인덱스로 필터링 결과:',array3)"
      ],
      "metadata": {
        "colab": {
          "base_uri": "https://localhost:8080/"
        },
        "id": "1k8SGczFB59x",
        "outputId": "2c11ff38-b469-4cac-cc7f-010cab1dcb70"
      },
      "execution_count": null,
      "outputs": [
        {
          "output_type": "stream",
          "name": "stdout",
          "text": [
            "불린 인덱스로 필터링 결과: [6 7 8 9]\n"
          ]
        }
      ]
    },
    {
      "cell_type": "code",
      "source": [
        "indexes = np.array([5,6,7,8])\n",
        "array4 = array1d[indexes]\n",
        "print('일반 인덱스로 필터링 결과:',array4)"
      ],
      "metadata": {
        "colab": {
          "base_uri": "https://localhost:8080/"
        },
        "id": "tdkstWcXCUci",
        "outputId": "1fcbf9ab-081d-495b-9f44-f9ec16612014"
      },
      "execution_count": null,
      "outputs": [
        {
          "output_type": "stream",
          "name": "stdout",
          "text": [
            "일반 인덱스로 필터링 결과: [6 7 8 9]\n"
          ]
        }
      ]
    },
    {
      "cell_type": "markdown",
      "source": [
        "**불린 인덱싱 동작 단계 도식화**\n",
        "1. array1d > 5와 같이 ndarray의 필터링 조건을 [ ] 안에 기재\n",
        "2. False 값은 무시하고 True 값에 해당하는 인덱스값만 저장\n",
        "\n",
        "  (True값 자체인 1을 저장하는 것 X, True값을 가진 인덱스를 저장)\n",
        "3. 저장된 인덱스 데이터 세트로 ndarray 조회"
      ],
      "metadata": {
        "id": "YcLgDopJCgTh"
      }
    },
    {
      "cell_type": "markdown",
      "source": [
        "### **행렬의 정렬 - sort(), argsort()**"
      ],
      "metadata": {
        "id": "JiOyvwowC2Nu"
      }
    },
    {
      "cell_type": "markdown",
      "source": [
        "#### **행렬 정렬**\n",
        "- **np.sort()**: 원 행렬 유지, 정렬된 행렬 반환\n",
        "- **ndarray.sort()**: 원 행렬 자체를 정렬한 형태로 변환, 반환 값은 None"
      ],
      "metadata": {
        "id": "0KZF38RYC-B1"
      }
    },
    {
      "cell_type": "code",
      "source": [
        "org_array = np.array([3,1,9,5])\n",
        "print('원본 행렬:', org_array)\n",
        "# np.sort()로 정렬\n",
        "sort_array1 = np.sort(org_array)\n",
        "print('np.sort() 호출 후 반환된 정렬 행렬:', sort_array1)\n",
        "print('np.sort() 호출 후 원본 행렬:', org_array)\n",
        "# ndarray.sort()로 정렬\n",
        "sort_array2 = org_array.sort()\n",
        "print('org_array.sort() 호출 후 반환된 행렬:', sort_array2)\n",
        "print('org_array.sort() 호출 후 원본 행렬:', org_array)"
      ],
      "metadata": {
        "colab": {
          "base_uri": "https://localhost:8080/"
        },
        "id": "RPJF-50CCzEA",
        "outputId": "1a5da81d-9508-4711-848d-a69194c127c9"
      },
      "execution_count": null,
      "outputs": [
        {
          "output_type": "stream",
          "name": "stdout",
          "text": [
            "원본 행렬: [3 1 9 5]\n",
            "np.sort() 호출 후 반환된 정렬 행렬: [1 3 5 9]\n",
            "np.sort() 호출 후 원본 행렬: [3 1 9 5]\n",
            "org_array.sort() 호출 후 반환된 행렬: None\n",
            "org_array.sort() 호출 후 원본 행렬: [1 3 5 9]\n"
          ]
        }
      ]
    },
    {
      "cell_type": "markdown",
      "source": [
        "- 기본적으로 오름차순 정렬\n",
        "\n",
        "  -> 내림차순 정렬: [::-1] 이용\n",
        "  \n",
        "  e.g. np.sort()[::-1]"
      ],
      "metadata": {
        "id": "FDVNg925FLiB"
      }
    },
    {
      "cell_type": "code",
      "source": [
        "sort_array1_desc = np.sort(org_array)[::-1]\n",
        "print('내림차순으로 정렬:', sort_array1_desc)"
      ],
      "metadata": {
        "colab": {
          "base_uri": "https://localhost:8080/"
        },
        "id": "Cvx7kNYKEzaU",
        "outputId": "dc5521c6-a9eb-489b-dbd2-f7567971dc64"
      },
      "execution_count": null,
      "outputs": [
        {
          "output_type": "stream",
          "name": "stdout",
          "text": [
            "내림차순으로 정렬: [9 5 3 1]\n"
          ]
        }
      ]
    },
    {
      "cell_type": "markdown",
      "source": [
        "- 2차원 이상 -> axis 축 값 설정을 통해 로우/칼럼 방향 정렬 수행도 가능"
      ],
      "metadata": {
        "id": "LgRpBZieFjz4"
      }
    },
    {
      "cell_type": "code",
      "source": [
        "array2d = np.array([[8,12],\n",
        "                    [7,1]])\n",
        "\n",
        "sort_array2d_axis0 = np.sort(array2d, axis=0)\n",
        "print('로우 방향 정렬:\\n', sort_array2d_axis0)\n",
        "\n",
        "sort_array2d_axis1 = np.sort(array2d, axis=1)\n",
        "print('칼럼 방향 정렬:\\n', sort_array2d_axis1)"
      ],
      "metadata": {
        "colab": {
          "base_uri": "https://localhost:8080/"
        },
        "id": "VzcW2zzEFhW-",
        "outputId": "56ed24c9-0999-48b6-a4b8-9fef6ee5240b"
      },
      "execution_count": null,
      "outputs": [
        {
          "output_type": "stream",
          "name": "stdout",
          "text": [
            "로우 방향 정렬:\n",
            " [[ 7  1]\n",
            " [ 8 12]]\n",
            "칼럼 방향 정렬:\n",
            " [[ 8 12]\n",
            " [ 1  7]]\n"
          ]
        }
      ]
    },
    {
      "cell_type": "markdown",
      "source": [
        "#### **정렬된 행렬의 인덱스 반환**\n",
        "- np.argsort(): 정렬 행렬의 원본 행렬 인덱스를 ndarray 형으로 반환"
      ],
      "metadata": {
        "id": "nMcjIhg2GJie"
      }
    },
    {
      "cell_type": "code",
      "source": [
        "org_array = np.array([3,1,9,5])\n",
        "sort_indices = np.argsort(org_array)\n",
        "print(type(sort_indices))\n",
        "print('행렬 정렬 시 원본 행렬의 인덱스:', sort_indices)"
      ],
      "metadata": {
        "colab": {
          "base_uri": "https://localhost:8080/"
        },
        "id": "Qb0fT0ciGVvH",
        "outputId": "4524cfb3-fed5-46ea-c141-6e392a532017"
      },
      "execution_count": null,
      "outputs": [
        {
          "output_type": "stream",
          "name": "stdout",
          "text": [
            "<class 'numpy.ndarray'>\n",
            "행렬 정렬 시 원본 행렬의 인덱스: [1 0 3 2]\n"
          ]
        }
      ]
    },
    {
      "cell_type": "markdown",
      "source": [
        "- np.argsort()[::-1]: 내림차순 정렬 시 원본 행렬 인덱스"
      ],
      "metadata": {
        "id": "2xjvgLFFGmPT"
      }
    },
    {
      "cell_type": "code",
      "source": [
        "org_array = np.array([3,1,9,5])\n",
        "sort_indices_desc = np.argsort(org_array)[::-1]\n",
        "print('행렬 내림차순 정렬 시 원본 행렬의 인덱스:', sort_indices_desc)"
      ],
      "metadata": {
        "colab": {
          "base_uri": "https://localhost:8080/"
        },
        "id": "dLgThKy1Gi8g",
        "outputId": "13255f01-7823-4284-8ffa-9d877f091dab"
      },
      "execution_count": null,
      "outputs": [
        {
          "output_type": "stream",
          "name": "stdout",
          "text": [
            "행렬 내림차순 정렬 시 원본 행렬의 인덱스: [2 3 0 1]\n"
          ]
        }
      ]
    },
    {
      "cell_type": "markdown",
      "source": [
        "- ndarray는 판다스 DataFrame 칼럼과 같은 메타 데이터를 가질 수 없음\n",
        "\n",
        "  -> 실제 값과 그 값이 뜻하는 메타 데이터를 별도의 ndarray로 각각 가져야 함\n",
        "\n",
        "  => argsort()는 넘파이에서 매우 활용도가 높음"
      ],
      "metadata": {
        "id": "RFAApOAAG7Qa"
      }
    },
    {
      "cell_type": "code",
      "source": [
        "import numpy as np\n",
        "\n",
        "name_array = np.array(['John','Mike','Sarah','Kate','Samuel'])\n",
        "score_array = np.array([78,95,84,98,88])\n",
        "\n",
        "sort_indices_asc = np.argsort(score_array)\n",
        "print('성적 오름차순 정렬 시 score_array의 인덱스:', sort_indices_asc)\n",
        "print('성적 오름차순으로 name_array의 이름 출력:', name_array[sort_indices_asc])"
      ],
      "metadata": {
        "colab": {
          "base_uri": "https://localhost:8080/"
        },
        "id": "6AfTs05YHZEs",
        "outputId": "82dcf01b-cffc-405c-f720-873e06b652f0"
      },
      "execution_count": null,
      "outputs": [
        {
          "output_type": "stream",
          "name": "stdout",
          "text": [
            "성적 오름차순 정렬 시 score_array의 인덱스: [0 2 4 1 3]\n",
            "성적 오름차순으로 name_array의 이름 출력: ['John' 'Sarah' 'Samuel' 'Mike' 'Kate']\n"
          ]
        }
      ]
    },
    {
      "cell_type": "markdown",
      "source": [
        "### **선형대수 연산 - 행렬 내적과 전치 행렬**"
      ],
      "metadata": {
        "id": "s8l0n2saK-l_"
      }
    },
    {
      "cell_type": "markdown",
      "source": [
        "#### **행렬 내적(행렬 곱)**\n",
        "- **np.dot()**: 행렬 내적 계산\n",
        "- 행렬의 내적: 왼쪽 행렬의 로우(행)와 오른쪽 행렬의 칼럼(열)의 원소들을 순차적으로 곱한 뒤 그 결과를 모두 더한 값\n",
        "- 왼쪽 행렬의 열 개수와 오른쪽 행렬의 행 개수가 동일해야 내적 연산 가능"
      ],
      "metadata": {
        "id": "0ddwzqEsLVAw"
      }
    },
    {
      "cell_type": "code",
      "source": [
        "A = np.array([[1,2,3],\n",
        "              [4,5,6]])\n",
        "B = np.array([[7,8],\n",
        "              [9,10],\n",
        "              [11,12]])\n",
        "\n",
        "dot_product = np.dot(A,B)\n",
        "print('행렬 내적 결과:\\n', dot_product)"
      ],
      "metadata": {
        "colab": {
          "base_uri": "https://localhost:8080/"
        },
        "id": "UEveNs_0LFkb",
        "outputId": "4e4645f6-492d-432d-d58d-25de818673fb"
      },
      "execution_count": null,
      "outputs": [
        {
          "output_type": "stream",
          "name": "stdout",
          "text": [
            "행렬 내적 결과:\n",
            " [[ 58  64]\n",
            " [139 154]]\n"
          ]
        }
      ]
    },
    {
      "cell_type": "markdown",
      "source": [
        "#### **전치 행렬**\n",
        "- **전치 행렬**: 원 행렬에서 행과 열 위치 교환한 원소로 구성한 행렬\n",
        "- **transpose()**: 전치 행렬 구하기"
      ],
      "metadata": {
        "id": "G9gF_annL5v_"
      }
    },
    {
      "cell_type": "code",
      "source": [
        "A = np.array([[1,2],\n",
        "              [3,4]])\n",
        "transpose_mat = np.transpose(A)\n",
        "print('A의 전치 행렬:\\n', transpose_mat)"
      ],
      "metadata": {
        "colab": {
          "base_uri": "https://localhost:8080/"
        },
        "id": "2SydjOdUMFBy",
        "outputId": "2d9cc954-cd36-4551-ef10-44dc695e1090"
      },
      "execution_count": null,
      "outputs": [
        {
          "output_type": "stream",
          "name": "stdout",
          "text": [
            "A의 전치 행렬:\n",
            " [[1 3]\n",
            " [2 4]]\n"
          ]
        }
      ]
    }
  ]
}
